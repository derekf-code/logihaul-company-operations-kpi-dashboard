{
 "cells": [
  {
   "cell_type": "code",
   "execution_count": 13,
   "id": "ef044eaf",
   "metadata": {},
   "outputs": [
    {
     "name": "stdout",
     "output_type": "stream",
     "text": [
      "(500, 10)\n"
     ]
    },
    {
     "data": {
      "application/vnd.microsoft.datawrangler.viewer.v0+json": {
       "columns": [
        {
         "name": "index",
         "rawType": "int64",
         "type": "integer"
        },
        {
         "name": "shipment_id",
         "rawType": "object",
         "type": "string"
        },
        {
         "name": "region",
         "rawType": "object",
         "type": "string"
        },
        {
         "name": "route",
         "rawType": "object",
         "type": "string"
        },
        {
         "name": "distance_miles",
         "rawType": "float64",
         "type": "float"
        },
        {
         "name": "expected_days",
         "rawType": "int64",
         "type": "integer"
        },
        {
         "name": "delivery_days",
         "rawType": "int64",
         "type": "integer"
        },
        {
         "name": "cost_usd",
         "rawType": "float64",
         "type": "float"
        },
        {
         "name": "expected_date",
         "rawType": "object",
         "type": "string"
        },
        {
         "name": "delivery_date",
         "rawType": "object",
         "type": "string"
        },
        {
         "name": "delayed",
         "rawType": "bool",
         "type": "boolean"
        }
       ],
       "ref": "19cd0cf7-54d0-49de-b080-591a9fa99cd7",
       "rows": [
        [
         "0",
         "d0ce1724-3ebd-4919-94c8-130e450f1bdc",
         "West",
         "A-B",
         "927.47",
         "3",
         "3",
         "2504.17",
         "2025-07-27",
         "2025-07-27",
         "False"
        ],
        [
         "1",
         "86a7a677-e5e4-40db-b1a1-d73463be5746",
         "West",
         "E-F",
         "1415.22",
         "2",
         "2",
         "3354.07",
         "2025-07-31",
         "2025-07-31",
         "False"
        ],
        [
         "2",
         "d1124997-9909-44ef-8270-c7013d9a3229",
         "South",
         "D-E",
         "1424.2",
         "5",
         "8",
         "4685.62",
         "2025-07-22",
         "2025-07-25",
         "True"
        ],
        [
         "3",
         "dba33228-a302-4190-bef6-2cce61db1100",
         "Northeast",
         "B-C",
         "1989.21",
         "2",
         "5",
         "3680.04",
         "2025-07-02",
         "2025-07-05",
         "True"
        ],
        [
         "4",
         "2f706978-6205-424f-a861-3032f945ca6f",
         "Northeast",
         "D-E",
         "810.41",
         "3",
         "5",
         "1393.91",
         "2025-07-19",
         "2025-07-21",
         "True"
        ]
       ],
       "shape": {
        "columns": 10,
        "rows": 5
       }
      },
      "text/html": [
       "<div>\n",
       "<style scoped>\n",
       "    .dataframe tbody tr th:only-of-type {\n",
       "        vertical-align: middle;\n",
       "    }\n",
       "\n",
       "    .dataframe tbody tr th {\n",
       "        vertical-align: top;\n",
       "    }\n",
       "\n",
       "    .dataframe thead th {\n",
       "        text-align: right;\n",
       "    }\n",
       "</style>\n",
       "<table border=\"1\" class=\"dataframe\">\n",
       "  <thead>\n",
       "    <tr style=\"text-align: right;\">\n",
       "      <th></th>\n",
       "      <th>shipment_id</th>\n",
       "      <th>region</th>\n",
       "      <th>route</th>\n",
       "      <th>distance_miles</th>\n",
       "      <th>expected_days</th>\n",
       "      <th>delivery_days</th>\n",
       "      <th>cost_usd</th>\n",
       "      <th>expected_date</th>\n",
       "      <th>delivery_date</th>\n",
       "      <th>delayed</th>\n",
       "    </tr>\n",
       "  </thead>\n",
       "  <tbody>\n",
       "    <tr>\n",
       "      <th>0</th>\n",
       "      <td>d0ce1724-3ebd-4919-94c8-130e450f1bdc</td>\n",
       "      <td>West</td>\n",
       "      <td>A-B</td>\n",
       "      <td>927.47</td>\n",
       "      <td>3</td>\n",
       "      <td>3</td>\n",
       "      <td>2504.17</td>\n",
       "      <td>2025-07-27</td>\n",
       "      <td>2025-07-27</td>\n",
       "      <td>False</td>\n",
       "    </tr>\n",
       "    <tr>\n",
       "      <th>1</th>\n",
       "      <td>86a7a677-e5e4-40db-b1a1-d73463be5746</td>\n",
       "      <td>West</td>\n",
       "      <td>E-F</td>\n",
       "      <td>1415.22</td>\n",
       "      <td>2</td>\n",
       "      <td>2</td>\n",
       "      <td>3354.07</td>\n",
       "      <td>2025-07-31</td>\n",
       "      <td>2025-07-31</td>\n",
       "      <td>False</td>\n",
       "    </tr>\n",
       "    <tr>\n",
       "      <th>2</th>\n",
       "      <td>d1124997-9909-44ef-8270-c7013d9a3229</td>\n",
       "      <td>South</td>\n",
       "      <td>D-E</td>\n",
       "      <td>1424.20</td>\n",
       "      <td>5</td>\n",
       "      <td>8</td>\n",
       "      <td>4685.62</td>\n",
       "      <td>2025-07-22</td>\n",
       "      <td>2025-07-25</td>\n",
       "      <td>True</td>\n",
       "    </tr>\n",
       "    <tr>\n",
       "      <th>3</th>\n",
       "      <td>dba33228-a302-4190-bef6-2cce61db1100</td>\n",
       "      <td>Northeast</td>\n",
       "      <td>B-C</td>\n",
       "      <td>1989.21</td>\n",
       "      <td>2</td>\n",
       "      <td>5</td>\n",
       "      <td>3680.04</td>\n",
       "      <td>2025-07-02</td>\n",
       "      <td>2025-07-05</td>\n",
       "      <td>True</td>\n",
       "    </tr>\n",
       "    <tr>\n",
       "      <th>4</th>\n",
       "      <td>2f706978-6205-424f-a861-3032f945ca6f</td>\n",
       "      <td>Northeast</td>\n",
       "      <td>D-E</td>\n",
       "      <td>810.41</td>\n",
       "      <td>3</td>\n",
       "      <td>5</td>\n",
       "      <td>1393.91</td>\n",
       "      <td>2025-07-19</td>\n",
       "      <td>2025-07-21</td>\n",
       "      <td>True</td>\n",
       "    </tr>\n",
       "  </tbody>\n",
       "</table>\n",
       "</div>"
      ],
      "text/plain": [
       "                            shipment_id     region route  distance_miles  \\\n",
       "0  d0ce1724-3ebd-4919-94c8-130e450f1bdc       West   A-B          927.47   \n",
       "1  86a7a677-e5e4-40db-b1a1-d73463be5746       West   E-F         1415.22   \n",
       "2  d1124997-9909-44ef-8270-c7013d9a3229      South   D-E         1424.20   \n",
       "3  dba33228-a302-4190-bef6-2cce61db1100  Northeast   B-C         1989.21   \n",
       "4  2f706978-6205-424f-a861-3032f945ca6f  Northeast   D-E          810.41   \n",
       "\n",
       "   expected_days  delivery_days  cost_usd expected_date delivery_date  delayed  \n",
       "0              3              3   2504.17    2025-07-27    2025-07-27    False  \n",
       "1              2              2   3354.07    2025-07-31    2025-07-31    False  \n",
       "2              5              8   4685.62    2025-07-22    2025-07-25     True  \n",
       "3              2              5   3680.04    2025-07-02    2025-07-05     True  \n",
       "4              3              5   1393.91    2025-07-19    2025-07-21     True  "
      ]
     },
     "metadata": {},
     "output_type": "display_data"
    },
    {
     "data": {
      "application/vnd.microsoft.datawrangler.viewer.v0+json": {
       "columns": [
        {
         "name": "index",
         "rawType": "object",
         "type": "string"
        },
        {
         "name": "0",
         "rawType": "object",
         "type": "unknown"
        }
       ],
       "ref": "51d59c32-8997-488f-aea7-6b6b76e2df7f",
       "rows": [
        [
         "shipment_id",
         "object"
        ],
        [
         "region",
         "object"
        ],
        [
         "route",
         "object"
        ],
        [
         "distance_miles",
         "float64"
        ],
        [
         "expected_days",
         "int64"
        ],
        [
         "delivery_days",
         "int64"
        ],
        [
         "cost_usd",
         "float64"
        ],
        [
         "expected_date",
         "object"
        ],
        [
         "delivery_date",
         "object"
        ],
        [
         "delayed",
         "bool"
        ]
       ],
       "shape": {
        "columns": 1,
        "rows": 10
       }
      },
      "text/plain": [
       "shipment_id        object\n",
       "region             object\n",
       "route              object\n",
       "distance_miles    float64\n",
       "expected_days       int64\n",
       "delivery_days       int64\n",
       "cost_usd          float64\n",
       "expected_date      object\n",
       "delivery_date      object\n",
       "delayed              bool\n",
       "dtype: object"
      ]
     },
     "metadata": {},
     "output_type": "display_data"
    },
    {
     "data": {
      "application/vnd.microsoft.datawrangler.viewer.v0+json": {
       "columns": [
        {
         "name": "index",
         "rawType": "object",
         "type": "string"
        },
        {
         "name": "0",
         "rawType": "int64",
         "type": "integer"
        }
       ],
       "ref": "ddc0d6b5-a5f7-43db-84dc-9cf5034a3207",
       "rows": [
        [
         "shipment_id",
         "0"
        ],
        [
         "region",
         "0"
        ],
        [
         "route",
         "0"
        ],
        [
         "distance_miles",
         "0"
        ],
        [
         "expected_days",
         "0"
        ],
        [
         "delivery_days",
         "0"
        ],
        [
         "cost_usd",
         "0"
        ],
        [
         "expected_date",
         "0"
        ],
        [
         "delivery_date",
         "0"
        ],
        [
         "delayed",
         "0"
        ]
       ],
       "shape": {
        "columns": 1,
        "rows": 10
       }
      },
      "text/plain": [
       "shipment_id       0\n",
       "region            0\n",
       "route             0\n",
       "distance_miles    0\n",
       "expected_days     0\n",
       "delivery_days     0\n",
       "cost_usd          0\n",
       "expected_date     0\n",
       "delivery_date     0\n",
       "delayed           0\n",
       "dtype: int64"
      ]
     },
     "metadata": {},
     "output_type": "display_data"
    },
    {
     "data": {
      "application/vnd.microsoft.datawrangler.viewer.v0+json": {
       "columns": [
        {
         "name": "index",
         "rawType": "object",
         "type": "string"
        },
        {
         "name": "count",
         "rawType": "object",
         "type": "unknown"
        },
        {
         "name": "unique",
         "rawType": "object",
         "type": "unknown"
        },
        {
         "name": "top",
         "rawType": "object",
         "type": "unknown"
        },
        {
         "name": "freq",
         "rawType": "object",
         "type": "unknown"
        },
        {
         "name": "mean",
         "rawType": "object",
         "type": "unknown"
        },
        {
         "name": "std",
         "rawType": "object",
         "type": "unknown"
        },
        {
         "name": "min",
         "rawType": "object",
         "type": "unknown"
        },
        {
         "name": "25%",
         "rawType": "object",
         "type": "unknown"
        },
        {
         "name": "50%",
         "rawType": "object",
         "type": "unknown"
        },
        {
         "name": "75%",
         "rawType": "object",
         "type": "unknown"
        },
        {
         "name": "max",
         "rawType": "object",
         "type": "unknown"
        }
       ],
       "ref": "7e05f39a-8308-47aa-a888-9ab08be96966",
       "rows": [
        [
         "shipment_id",
         "500",
         "500",
         "439f383d-8c79-45c4-81fb-f02b4e1a6686",
         "1",
         null,
         null,
         null,
         null,
         null,
         null,
         null
        ],
        [
         "region",
         "500",
         "4",
         "Northeast",
         "141",
         null,
         null,
         null,
         null,
         null,
         null,
         null
        ],
        [
         "route",
         "500",
         "5",
         "A-B",
         "117",
         null,
         null,
         null,
         null,
         null,
         null,
         null
        ],
        [
         "distance_miles",
         "500.0",
         null,
         null,
         null,
         "1100.8226399999999",
         "539.288320793357",
         "110.76",
         "628.725",
         "1104.3",
         "1593.8625000000002",
         "1998.54"
        ],
        [
         "expected_days",
         "500.0",
         null,
         null,
         null,
         "4.462",
         "1.7603276703540254",
         "2.0",
         "3.0",
         "4.0",
         "6.0",
         "7.0"
        ],
        [
         "delivery_days",
         "500.0",
         null,
         null,
         null,
         "5.52",
         "2.3117717398467987",
         "1.0",
         "4.0",
         "6.0",
         "7.0",
         "10.0"
        ],
        [
         "cost_usd",
         "500.0",
         null,
         null,
         null,
         "2770.84308",
         "1492.2134796496812",
         "199.37",
         "1472.1675",
         "2664.705",
         "3835.6725",
         "6708.66"
        ],
        [
         "expected_date",
         "500",
         "34",
         "2025-07-26",
         "22",
         null,
         null,
         null,
         null,
         null,
         null,
         null
        ],
        [
         "delivery_date",
         "500",
         "30",
         "2025-07-23",
         "25",
         null,
         null,
         null,
         null,
         null,
         null,
         null
        ],
        [
         "delayed",
         "500",
         "2",
         "True",
         "305",
         null,
         null,
         null,
         null,
         null,
         null,
         null
        ]
       ],
       "shape": {
        "columns": 11,
        "rows": 10
       }
      },
      "text/html": [
       "<div>\n",
       "<style scoped>\n",
       "    .dataframe tbody tr th:only-of-type {\n",
       "        vertical-align: middle;\n",
       "    }\n",
       "\n",
       "    .dataframe tbody tr th {\n",
       "        vertical-align: top;\n",
       "    }\n",
       "\n",
       "    .dataframe thead th {\n",
       "        text-align: right;\n",
       "    }\n",
       "</style>\n",
       "<table border=\"1\" class=\"dataframe\">\n",
       "  <thead>\n",
       "    <tr style=\"text-align: right;\">\n",
       "      <th></th>\n",
       "      <th>count</th>\n",
       "      <th>unique</th>\n",
       "      <th>top</th>\n",
       "      <th>freq</th>\n",
       "      <th>mean</th>\n",
       "      <th>std</th>\n",
       "      <th>min</th>\n",
       "      <th>25%</th>\n",
       "      <th>50%</th>\n",
       "      <th>75%</th>\n",
       "      <th>max</th>\n",
       "    </tr>\n",
       "  </thead>\n",
       "  <tbody>\n",
       "    <tr>\n",
       "      <th>shipment_id</th>\n",
       "      <td>500</td>\n",
       "      <td>500</td>\n",
       "      <td>439f383d-8c79-45c4-81fb-f02b4e1a6686</td>\n",
       "      <td>1</td>\n",
       "      <td>NaN</td>\n",
       "      <td>NaN</td>\n",
       "      <td>NaN</td>\n",
       "      <td>NaN</td>\n",
       "      <td>NaN</td>\n",
       "      <td>NaN</td>\n",
       "      <td>NaN</td>\n",
       "    </tr>\n",
       "    <tr>\n",
       "      <th>region</th>\n",
       "      <td>500</td>\n",
       "      <td>4</td>\n",
       "      <td>Northeast</td>\n",
       "      <td>141</td>\n",
       "      <td>NaN</td>\n",
       "      <td>NaN</td>\n",
       "      <td>NaN</td>\n",
       "      <td>NaN</td>\n",
       "      <td>NaN</td>\n",
       "      <td>NaN</td>\n",
       "      <td>NaN</td>\n",
       "    </tr>\n",
       "    <tr>\n",
       "      <th>route</th>\n",
       "      <td>500</td>\n",
       "      <td>5</td>\n",
       "      <td>A-B</td>\n",
       "      <td>117</td>\n",
       "      <td>NaN</td>\n",
       "      <td>NaN</td>\n",
       "      <td>NaN</td>\n",
       "      <td>NaN</td>\n",
       "      <td>NaN</td>\n",
       "      <td>NaN</td>\n",
       "      <td>NaN</td>\n",
       "    </tr>\n",
       "    <tr>\n",
       "      <th>distance_miles</th>\n",
       "      <td>500.0</td>\n",
       "      <td>NaN</td>\n",
       "      <td>NaN</td>\n",
       "      <td>NaN</td>\n",
       "      <td>1100.82264</td>\n",
       "      <td>539.288321</td>\n",
       "      <td>110.76</td>\n",
       "      <td>628.725</td>\n",
       "      <td>1104.3</td>\n",
       "      <td>1593.8625</td>\n",
       "      <td>1998.54</td>\n",
       "    </tr>\n",
       "    <tr>\n",
       "      <th>expected_days</th>\n",
       "      <td>500.0</td>\n",
       "      <td>NaN</td>\n",
       "      <td>NaN</td>\n",
       "      <td>NaN</td>\n",
       "      <td>4.462</td>\n",
       "      <td>1.760328</td>\n",
       "      <td>2.0</td>\n",
       "      <td>3.0</td>\n",
       "      <td>4.0</td>\n",
       "      <td>6.0</td>\n",
       "      <td>7.0</td>\n",
       "    </tr>\n",
       "    <tr>\n",
       "      <th>delivery_days</th>\n",
       "      <td>500.0</td>\n",
       "      <td>NaN</td>\n",
       "      <td>NaN</td>\n",
       "      <td>NaN</td>\n",
       "      <td>5.52</td>\n",
       "      <td>2.311772</td>\n",
       "      <td>1.0</td>\n",
       "      <td>4.0</td>\n",
       "      <td>6.0</td>\n",
       "      <td>7.0</td>\n",
       "      <td>10.0</td>\n",
       "    </tr>\n",
       "    <tr>\n",
       "      <th>cost_usd</th>\n",
       "      <td>500.0</td>\n",
       "      <td>NaN</td>\n",
       "      <td>NaN</td>\n",
       "      <td>NaN</td>\n",
       "      <td>2770.84308</td>\n",
       "      <td>1492.21348</td>\n",
       "      <td>199.37</td>\n",
       "      <td>1472.1675</td>\n",
       "      <td>2664.705</td>\n",
       "      <td>3835.6725</td>\n",
       "      <td>6708.66</td>\n",
       "    </tr>\n",
       "    <tr>\n",
       "      <th>expected_date</th>\n",
       "      <td>500</td>\n",
       "      <td>34</td>\n",
       "      <td>2025-07-26</td>\n",
       "      <td>22</td>\n",
       "      <td>NaN</td>\n",
       "      <td>NaN</td>\n",
       "      <td>NaN</td>\n",
       "      <td>NaN</td>\n",
       "      <td>NaN</td>\n",
       "      <td>NaN</td>\n",
       "      <td>NaN</td>\n",
       "    </tr>\n",
       "    <tr>\n",
       "      <th>delivery_date</th>\n",
       "      <td>500</td>\n",
       "      <td>30</td>\n",
       "      <td>2025-07-23</td>\n",
       "      <td>25</td>\n",
       "      <td>NaN</td>\n",
       "      <td>NaN</td>\n",
       "      <td>NaN</td>\n",
       "      <td>NaN</td>\n",
       "      <td>NaN</td>\n",
       "      <td>NaN</td>\n",
       "      <td>NaN</td>\n",
       "    </tr>\n",
       "    <tr>\n",
       "      <th>delayed</th>\n",
       "      <td>500</td>\n",
       "      <td>2</td>\n",
       "      <td>True</td>\n",
       "      <td>305</td>\n",
       "      <td>NaN</td>\n",
       "      <td>NaN</td>\n",
       "      <td>NaN</td>\n",
       "      <td>NaN</td>\n",
       "      <td>NaN</td>\n",
       "      <td>NaN</td>\n",
       "      <td>NaN</td>\n",
       "    </tr>\n",
       "  </tbody>\n",
       "</table>\n",
       "</div>"
      ],
      "text/plain": [
       "                count unique                                   top freq  \\\n",
       "shipment_id       500    500  439f383d-8c79-45c4-81fb-f02b4e1a6686    1   \n",
       "region            500      4                             Northeast  141   \n",
       "route             500      5                                   A-B  117   \n",
       "distance_miles  500.0    NaN                                   NaN  NaN   \n",
       "expected_days   500.0    NaN                                   NaN  NaN   \n",
       "delivery_days   500.0    NaN                                   NaN  NaN   \n",
       "cost_usd        500.0    NaN                                   NaN  NaN   \n",
       "expected_date     500     34                            2025-07-26   22   \n",
       "delivery_date     500     30                            2025-07-23   25   \n",
       "delayed           500      2                                  True  305   \n",
       "\n",
       "                      mean         std     min        25%       50%  \\\n",
       "shipment_id            NaN         NaN     NaN        NaN       NaN   \n",
       "region                 NaN         NaN     NaN        NaN       NaN   \n",
       "route                  NaN         NaN     NaN        NaN       NaN   \n",
       "distance_miles  1100.82264  539.288321  110.76    628.725    1104.3   \n",
       "expected_days        4.462    1.760328     2.0        3.0       4.0   \n",
       "delivery_days         5.52    2.311772     1.0        4.0       6.0   \n",
       "cost_usd        2770.84308  1492.21348  199.37  1472.1675  2664.705   \n",
       "expected_date          NaN         NaN     NaN        NaN       NaN   \n",
       "delivery_date          NaN         NaN     NaN        NaN       NaN   \n",
       "delayed                NaN         NaN     NaN        NaN       NaN   \n",
       "\n",
       "                      75%      max  \n",
       "shipment_id           NaN      NaN  \n",
       "region                NaN      NaN  \n",
       "route                 NaN      NaN  \n",
       "distance_miles  1593.8625  1998.54  \n",
       "expected_days         6.0      7.0  \n",
       "delivery_days         7.0     10.0  \n",
       "cost_usd        3835.6725  6708.66  \n",
       "expected_date         NaN      NaN  \n",
       "delivery_date         NaN      NaN  \n",
       "delayed               NaN      NaN  "
      ]
     },
     "metadata": {},
     "output_type": "display_data"
    }
   ],
   "source": [
    "import pandas as pd\n",
    "pd.set_option('display.max_columns', 200)\n",
    "df = pd.read_csv(\"freight_ops_dataset.csv\")\n",
    "print(df.shape)\n",
    "display(df.head())\n",
    "display(df.dtypes)\n",
    "display(df.isnull().sum())\n",
    "display(df.describe(include='all').transpose())\n"
   ]
  },
  {
   "cell_type": "code",
   "execution_count": 14,
   "id": "333784b8",
   "metadata": {},
   "outputs": [
    {
     "data": {
      "application/vnd.microsoft.datawrangler.viewer.v0+json": {
       "columns": [
        {
         "name": "index",
         "rawType": "int64",
         "type": "integer"
        },
        {
         "name": "expected_date",
         "rawType": "datetime64[ns]",
         "type": "datetime"
        },
        {
         "name": "delivery_date",
         "rawType": "datetime64[ns]",
         "type": "datetime"
        },
        {
         "name": "delay_days",
         "rawType": "int64",
         "type": "integer"
        },
        {
         "name": "delayed",
         "rawType": "bool",
         "type": "boolean"
        },
        {
         "name": "cost_per_mile",
         "rawType": "float64",
         "type": "float"
        }
       ],
       "ref": "5b7c7ea2-ecb8-46cc-8194-3d0869bf07e0",
       "rows": [
        [
         "0",
         "2025-07-27 00:00:00",
         "2025-07-27 00:00:00",
         "0",
         "False",
         "2.7000010782019905"
        ],
        [
         "1",
         "2025-07-31 00:00:00",
         "2025-07-31 00:00:00",
         "0",
         "False",
         "2.369999010754512"
        ],
        [
         "2",
         "2025-07-22 00:00:00",
         "2025-07-25 00:00:00",
         "3",
         "True",
         "3.2900014042971493"
        ],
        [
         "3",
         "2025-07-02 00:00:00",
         "2025-07-05 00:00:00",
         "3",
         "True",
         "1.850000754068198"
        ],
        [
         "4",
         "2025-07-19 00:00:00",
         "2025-07-21 00:00:00",
         "2",
         "False",
         "1.7200059229279008"
        ]
       ],
       "shape": {
        "columns": 5,
        "rows": 5
       }
      },
      "text/html": [
       "<div>\n",
       "<style scoped>\n",
       "    .dataframe tbody tr th:only-of-type {\n",
       "        vertical-align: middle;\n",
       "    }\n",
       "\n",
       "    .dataframe tbody tr th {\n",
       "        vertical-align: top;\n",
       "    }\n",
       "\n",
       "    .dataframe thead th {\n",
       "        text-align: right;\n",
       "    }\n",
       "</style>\n",
       "<table border=\"1\" class=\"dataframe\">\n",
       "  <thead>\n",
       "    <tr style=\"text-align: right;\">\n",
       "      <th></th>\n",
       "      <th>expected_date</th>\n",
       "      <th>delivery_date</th>\n",
       "      <th>delay_days</th>\n",
       "      <th>delayed</th>\n",
       "      <th>cost_per_mile</th>\n",
       "    </tr>\n",
       "  </thead>\n",
       "  <tbody>\n",
       "    <tr>\n",
       "      <th>0</th>\n",
       "      <td>2025-07-27</td>\n",
       "      <td>2025-07-27</td>\n",
       "      <td>0</td>\n",
       "      <td>False</td>\n",
       "      <td>2.700001</td>\n",
       "    </tr>\n",
       "    <tr>\n",
       "      <th>1</th>\n",
       "      <td>2025-07-31</td>\n",
       "      <td>2025-07-31</td>\n",
       "      <td>0</td>\n",
       "      <td>False</td>\n",
       "      <td>2.369999</td>\n",
       "    </tr>\n",
       "    <tr>\n",
       "      <th>2</th>\n",
       "      <td>2025-07-22</td>\n",
       "      <td>2025-07-25</td>\n",
       "      <td>3</td>\n",
       "      <td>True</td>\n",
       "      <td>3.290001</td>\n",
       "    </tr>\n",
       "    <tr>\n",
       "      <th>3</th>\n",
       "      <td>2025-07-02</td>\n",
       "      <td>2025-07-05</td>\n",
       "      <td>3</td>\n",
       "      <td>True</td>\n",
       "      <td>1.850001</td>\n",
       "    </tr>\n",
       "    <tr>\n",
       "      <th>4</th>\n",
       "      <td>2025-07-19</td>\n",
       "      <td>2025-07-21</td>\n",
       "      <td>2</td>\n",
       "      <td>False</td>\n",
       "      <td>1.720006</td>\n",
       "    </tr>\n",
       "  </tbody>\n",
       "</table>\n",
       "</div>"
      ],
      "text/plain": [
       "  expected_date delivery_date  delay_days  delayed  cost_per_mile\n",
       "0    2025-07-27    2025-07-27           0    False       2.700001\n",
       "1    2025-07-31    2025-07-31           0    False       2.369999\n",
       "2    2025-07-22    2025-07-25           3     True       3.290001\n",
       "3    2025-07-02    2025-07-05           3     True       1.850001\n",
       "4    2025-07-19    2025-07-21           2    False       1.720006"
      ]
     },
     "metadata": {},
     "output_type": "display_data"
    }
   ],
   "source": [
    "df['expected_date'] = pd.to_datetime(df['expected_date'], errors='coerce')\n",
    "df['delivery_date'] = pd.to_datetime(df['delivery_date'], errors='coerce')\n",
    "# if dataset has numeric expected/delivery days, keep them too:\n",
    "if 'delivery_days' in df.columns and 'expected_days' in df.columns:\n",
    "    df['delay_days_by_value'] = df['delivery_days'] - df['expected_days']\n",
    "# compute diffs from dates (preferred)\n",
    "df['delay_days'] = (df['delivery_date'] - df['expected_date']).dt.days\n",
    "df['delayed'] = df['delay_days'] > 2\n",
    "df['cost_per_mile'] = df['cost_usd'] / df['distance_miles']\n",
    "display(df[['expected_date','delivery_date','delay_days','delayed','cost_per_mile']].head())\n"
   ]
  },
  {
   "cell_type": "code",
   "execution_count": 15,
   "id": "e610a74e",
   "metadata": {},
   "outputs": [],
   "source": [
    "df.to_csv(\"raw_backup_after_inspect.csv\", index=False)"
   ]
  },
  {
   "cell_type": "code",
   "execution_count": 16,
   "id": "eaa4e616",
   "metadata": {},
   "outputs": [
    {
     "name": "stdout",
     "output_type": "stream",
     "text": [
      "rows after cleaning: 500\n"
     ]
    },
    {
     "data": {
      "application/vnd.microsoft.datawrangler.viewer.v0+json": {
       "columns": [
        {
         "name": "index",
         "rawType": "object",
         "type": "string"
        },
        {
         "name": "count",
         "rawType": "object",
         "type": "unknown"
        },
        {
         "name": "mean",
         "rawType": "object",
         "type": "unknown"
        },
        {
         "name": "min",
         "rawType": "object",
         "type": "unknown"
        },
        {
         "name": "25%",
         "rawType": "object",
         "type": "unknown"
        },
        {
         "name": "50%",
         "rawType": "object",
         "type": "unknown"
        },
        {
         "name": "75%",
         "rawType": "object",
         "type": "unknown"
        },
        {
         "name": "max",
         "rawType": "object",
         "type": "unknown"
        },
        {
         "name": "std",
         "rawType": "object",
         "type": "unknown"
        }
       ],
       "ref": "d3aab182-daf3-4540-be6e-cb78c8df70e6",
       "rows": [
        [
         "distance_miles",
         "500.0",
         "1100.8226399999999",
         "110.76",
         "628.725",
         "1104.3",
         "1593.8625000000002",
         "1998.54",
         "539.288320793357"
        ],
        [
         "expected_days",
         "500.0",
         "4.462",
         "2.0",
         "3.0",
         "4.0",
         "6.0",
         "7.0",
         "1.7603276703540254"
        ],
        [
         "delivery_days",
         "500.0",
         "5.52",
         "1.0",
         "4.0",
         "6.0",
         "7.0",
         "10.0",
         "2.3117717398467987"
        ],
        [
         "cost_usd",
         "500.0",
         "2770.84308",
         "199.37",
         "1472.1675",
         "2664.705",
         "3835.6725",
         "6708.66",
         "1492.2134796496812"
        ],
        [
         "expected_date",
         "500",
         "2025-07-18 01:32:09.600000",
         "2025-07-02 00:00:00",
         "2025-07-10 00:00:00",
         "2025-07-18 00:00:00",
         "2025-07-26 00:00:00",
         "2025-08-04 00:00:00",
         null
        ],
        [
         "delivery_date",
         "500",
         "2025-07-19 02:55:40.800000256",
         "2025-07-05 00:00:00",
         "2025-07-11 00:00:00",
         "2025-07-19 00:00:00",
         "2025-07-27 00:00:00",
         "2025-08-03 00:00:00",
         null
        ],
        [
         "delay_days_by_value",
         "500.0",
         "1.058",
         "-1.0",
         "0.0",
         "1.0",
         "2.0",
         "3.0",
         "1.4459659868996038"
        ],
        [
         "delay_days",
         "500.0",
         "1.058",
         "-1.0",
         "0.0",
         "1.0",
         "2.0",
         "3.0",
         "1.4459659868996038"
        ],
        [
         "cost_per_mile",
         "500.0",
         "2.531319910546805",
         "1.5",
         "2.0",
         "2.5799988857272247",
         "3.032503274540371",
         "3.4900055417370126",
         "0.5770378442438371"
        ]
       ],
       "shape": {
        "columns": 8,
        "rows": 9
       }
      },
      "text/html": [
       "<div>\n",
       "<style scoped>\n",
       "    .dataframe tbody tr th:only-of-type {\n",
       "        vertical-align: middle;\n",
       "    }\n",
       "\n",
       "    .dataframe tbody tr th {\n",
       "        vertical-align: top;\n",
       "    }\n",
       "\n",
       "    .dataframe thead th {\n",
       "        text-align: right;\n",
       "    }\n",
       "</style>\n",
       "<table border=\"1\" class=\"dataframe\">\n",
       "  <thead>\n",
       "    <tr style=\"text-align: right;\">\n",
       "      <th></th>\n",
       "      <th>count</th>\n",
       "      <th>mean</th>\n",
       "      <th>min</th>\n",
       "      <th>25%</th>\n",
       "      <th>50%</th>\n",
       "      <th>75%</th>\n",
       "      <th>max</th>\n",
       "      <th>std</th>\n",
       "    </tr>\n",
       "  </thead>\n",
       "  <tbody>\n",
       "    <tr>\n",
       "      <th>distance_miles</th>\n",
       "      <td>500.0</td>\n",
       "      <td>1100.82264</td>\n",
       "      <td>110.76</td>\n",
       "      <td>628.725</td>\n",
       "      <td>1104.3</td>\n",
       "      <td>1593.8625</td>\n",
       "      <td>1998.54</td>\n",
       "      <td>539.288321</td>\n",
       "    </tr>\n",
       "    <tr>\n",
       "      <th>expected_days</th>\n",
       "      <td>500.0</td>\n",
       "      <td>4.462</td>\n",
       "      <td>2.0</td>\n",
       "      <td>3.0</td>\n",
       "      <td>4.0</td>\n",
       "      <td>6.0</td>\n",
       "      <td>7.0</td>\n",
       "      <td>1.760328</td>\n",
       "    </tr>\n",
       "    <tr>\n",
       "      <th>delivery_days</th>\n",
       "      <td>500.0</td>\n",
       "      <td>5.52</td>\n",
       "      <td>1.0</td>\n",
       "      <td>4.0</td>\n",
       "      <td>6.0</td>\n",
       "      <td>7.0</td>\n",
       "      <td>10.0</td>\n",
       "      <td>2.311772</td>\n",
       "    </tr>\n",
       "    <tr>\n",
       "      <th>cost_usd</th>\n",
       "      <td>500.0</td>\n",
       "      <td>2770.84308</td>\n",
       "      <td>199.37</td>\n",
       "      <td>1472.1675</td>\n",
       "      <td>2664.705</td>\n",
       "      <td>3835.6725</td>\n",
       "      <td>6708.66</td>\n",
       "      <td>1492.21348</td>\n",
       "    </tr>\n",
       "    <tr>\n",
       "      <th>expected_date</th>\n",
       "      <td>500</td>\n",
       "      <td>2025-07-18 01:32:09.600000</td>\n",
       "      <td>2025-07-02 00:00:00</td>\n",
       "      <td>2025-07-10 00:00:00</td>\n",
       "      <td>2025-07-18 00:00:00</td>\n",
       "      <td>2025-07-26 00:00:00</td>\n",
       "      <td>2025-08-04 00:00:00</td>\n",
       "      <td>NaN</td>\n",
       "    </tr>\n",
       "    <tr>\n",
       "      <th>delivery_date</th>\n",
       "      <td>500</td>\n",
       "      <td>2025-07-19 02:55:40.800000256</td>\n",
       "      <td>2025-07-05 00:00:00</td>\n",
       "      <td>2025-07-11 00:00:00</td>\n",
       "      <td>2025-07-19 00:00:00</td>\n",
       "      <td>2025-07-27 00:00:00</td>\n",
       "      <td>2025-08-03 00:00:00</td>\n",
       "      <td>NaN</td>\n",
       "    </tr>\n",
       "    <tr>\n",
       "      <th>delay_days_by_value</th>\n",
       "      <td>500.0</td>\n",
       "      <td>1.058</td>\n",
       "      <td>-1.0</td>\n",
       "      <td>0.0</td>\n",
       "      <td>1.0</td>\n",
       "      <td>2.0</td>\n",
       "      <td>3.0</td>\n",
       "      <td>1.445966</td>\n",
       "    </tr>\n",
       "    <tr>\n",
       "      <th>delay_days</th>\n",
       "      <td>500.0</td>\n",
       "      <td>1.058</td>\n",
       "      <td>-1.0</td>\n",
       "      <td>0.0</td>\n",
       "      <td>1.0</td>\n",
       "      <td>2.0</td>\n",
       "      <td>3.0</td>\n",
       "      <td>1.445966</td>\n",
       "    </tr>\n",
       "    <tr>\n",
       "      <th>cost_per_mile</th>\n",
       "      <td>500.0</td>\n",
       "      <td>2.53132</td>\n",
       "      <td>1.5</td>\n",
       "      <td>2.0</td>\n",
       "      <td>2.579999</td>\n",
       "      <td>3.032503</td>\n",
       "      <td>3.490006</td>\n",
       "      <td>0.577038</td>\n",
       "    </tr>\n",
       "  </tbody>\n",
       "</table>\n",
       "</div>"
      ],
      "text/plain": [
       "                     count                           mean  \\\n",
       "distance_miles       500.0                     1100.82264   \n",
       "expected_days        500.0                          4.462   \n",
       "delivery_days        500.0                           5.52   \n",
       "cost_usd             500.0                     2770.84308   \n",
       "expected_date          500     2025-07-18 01:32:09.600000   \n",
       "delivery_date          500  2025-07-19 02:55:40.800000256   \n",
       "delay_days_by_value  500.0                          1.058   \n",
       "delay_days           500.0                          1.058   \n",
       "cost_per_mile        500.0                        2.53132   \n",
       "\n",
       "                                     min                  25%  \\\n",
       "distance_miles                    110.76              628.725   \n",
       "expected_days                        2.0                  3.0   \n",
       "delivery_days                        1.0                  4.0   \n",
       "cost_usd                          199.37            1472.1675   \n",
       "expected_date        2025-07-02 00:00:00  2025-07-10 00:00:00   \n",
       "delivery_date        2025-07-05 00:00:00  2025-07-11 00:00:00   \n",
       "delay_days_by_value                 -1.0                  0.0   \n",
       "delay_days                          -1.0                  0.0   \n",
       "cost_per_mile                        1.5                  2.0   \n",
       "\n",
       "                                     50%                  75%  \\\n",
       "distance_miles                    1104.3            1593.8625   \n",
       "expected_days                        4.0                  6.0   \n",
       "delivery_days                        6.0                  7.0   \n",
       "cost_usd                        2664.705            3835.6725   \n",
       "expected_date        2025-07-18 00:00:00  2025-07-26 00:00:00   \n",
       "delivery_date        2025-07-19 00:00:00  2025-07-27 00:00:00   \n",
       "delay_days_by_value                  1.0                  2.0   \n",
       "delay_days                           1.0                  2.0   \n",
       "cost_per_mile                   2.579999             3.032503   \n",
       "\n",
       "                                     max         std  \n",
       "distance_miles                   1998.54  539.288321  \n",
       "expected_days                        7.0    1.760328  \n",
       "delivery_days                       10.0    2.311772  \n",
       "cost_usd                         6708.66  1492.21348  \n",
       "expected_date        2025-08-04 00:00:00         NaN  \n",
       "delivery_date        2025-08-03 00:00:00         NaN  \n",
       "delay_days_by_value                  3.0    1.445966  \n",
       "delay_days                           3.0    1.445966  \n",
       "cost_per_mile                   3.490006    0.577038  "
      ]
     },
     "metadata": {},
     "output_type": "display_data"
    }
   ],
   "source": [
    "# drop duplicates\n",
    "df = df.drop_duplicates(subset='shipment_id', keep='first')\n",
    "# drop essential nulls\n",
    "df = df.dropna(subset=['shipment_id','delivery_date','expected_date','distance_miles','cost_usd'])\n",
    "# ensure numeric and positive\n",
    "df = df[df['distance_miles'] > 0]\n",
    "# filter implausible cost_per_mile\n",
    "df = df[df['cost_per_mile'].between(0.2, 20)]\n",
    "# final quick checks\n",
    "print(\"rows after cleaning:\", len(df))\n",
    "display(df.describe().transpose())\n"
   ]
  },
  {
   "cell_type": "code",
   "execution_count": 18,
   "id": "7bdf38c9",
   "metadata": {},
   "outputs": [],
   "source": [
    "df.to_csv(\"clean_shipments.csv\", index=False)"
   ]
  }
 ],
 "metadata": {
  "kernelspec": {
   "display_name": "myenv",
   "language": "python",
   "name": "python3"
  },
  "language_info": {
   "codemirror_mode": {
    "name": "ipython",
    "version": 3
   },
   "file_extension": ".py",
   "mimetype": "text/x-python",
   "name": "python",
   "nbconvert_exporter": "python",
   "pygments_lexer": "ipython3",
   "version": "3.10.18"
  }
 },
 "nbformat": 4,
 "nbformat_minor": 5
}
